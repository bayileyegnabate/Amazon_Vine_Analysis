{
  "nbformat": 4,
  "nbformat_minor": 0,
  "metadata": {
    "colab": {
      "name": "Vine_Review_Analysis.ipynb",
      "provenance": [],
      "collapsed_sections": [],
      "authorship_tag": "ABX9TyOT+hyY2795DsMFYfAFQLUv",
      "include_colab_link": true
    },
    "kernelspec": {
      "name": "python3",
      "display_name": "Python 3"
    },
    "language_info": {
      "name": "python"
    }
  },
  "cells": [
    {
      "cell_type": "markdown",
      "metadata": {
        "id": "view-in-github",
        "colab_type": "text"
      },
      "source": [
        "<a href=\"https://colab.research.google.com/github/bayileyegnabate/16-BigData/blob/main/Vine_Review_Analysis.ipynb\" target=\"_parent\"><img src=\"https://colab.research.google.com/assets/colab-badge.svg\" alt=\"Open In Colab\"/></a>"
      ]
    },
    {
      "cell_type": "code",
      "execution_count": 1,
      "metadata": {
        "colab": {
          "base_uri": "https://localhost:8080/"
        },
        "id": "W6avICXLo5Vr",
        "outputId": "27459290-9daf-418d-c736-410baae021ad"
      },
      "outputs": [
        {
          "output_type": "stream",
          "name": "stdout",
          "text": [
            "\r0% [Working]\r            \rGet:1 http://security.ubuntu.com/ubuntu bionic-security InRelease [88.7 kB]\n",
            "Hit:2 https://developer.download.nvidia.com/compute/cuda/repos/ubuntu1804/x86_64  InRelease\n",
            "Get:3 https://cloud.r-project.org/bin/linux/ubuntu bionic-cran40/ InRelease [3,626 B]\n",
            "Ign:4 https://developer.download.nvidia.com/compute/machine-learning/repos/ubuntu1804/x86_64  InRelease\n",
            "Hit:5 https://developer.download.nvidia.com/compute/machine-learning/repos/ubuntu1804/x86_64  Release\n",
            "Hit:6 http://archive.ubuntu.com/ubuntu bionic InRelease\n",
            "Get:7 http://ppa.launchpad.net/c2d4u.team/c2d4u4.0+/ubuntu bionic InRelease [15.9 kB]\n",
            "Get:8 http://archive.ubuntu.com/ubuntu bionic-updates InRelease [88.7 kB]\n",
            "Hit:9 http://ppa.launchpad.net/cran/libgit2/ubuntu bionic InRelease\n",
            "Get:10 http://archive.ubuntu.com/ubuntu bionic-backports InRelease [74.6 kB]\n",
            "Hit:11 http://ppa.launchpad.net/deadsnakes/ppa/ubuntu bionic InRelease\n",
            "Hit:12 http://ppa.launchpad.net/graphics-drivers/ppa/ubuntu bionic InRelease\n",
            "Get:13 http://security.ubuntu.com/ubuntu bionic-security/universe amd64 Packages [1,521 kB]\n",
            "Get:14 http://security.ubuntu.com/ubuntu bionic-security/main amd64 Packages [2,873 kB]\n",
            "Get:16 http://ppa.launchpad.net/c2d4u.team/c2d4u4.0+/ubuntu bionic/main Sources [2,075 kB]\n",
            "Get:17 http://ppa.launchpad.net/c2d4u.team/c2d4u4.0+/ubuntu bionic/main amd64 Packages [1,063 kB]\n",
            "Get:18 http://archive.ubuntu.com/ubuntu bionic-updates/restricted amd64 Packages [1,092 kB]\n",
            "Get:19 http://archive.ubuntu.com/ubuntu bionic-updates/universe amd64 Packages [2,298 kB]\n",
            "Get:20 http://archive.ubuntu.com/ubuntu bionic-updates/main amd64 Packages [3,315 kB]\n",
            "Fetched 14.5 MB in 6s (2,287 kB/s)\n",
            "Reading package lists... Done\n"
          ]
        }
      ],
      "source": [
        "import os\n",
        "# Find the latest version of spark 3.0 from http://www.apache.org/dist/spark/ and enter as the spark version\n",
        "# For example:\n",
        "# spark_version = 'spark-3.0.3'\n",
        "spark_version = 'spark-3.0.3'\n",
        "os.environ['SPARK_VERSION']=spark_version\n",
        "\n",
        "# Install Spark and Java\n",
        "!apt-get update\n",
        "!apt-get install openjdk-11-jdk-headless -qq > /dev/null\n",
        "!wget -q http://www.apache.org/dist/spark/$SPARK_VERSION/$SPARK_VERSION-bin-hadoop2.7.tgz\n",
        "!tar xf $SPARK_VERSION-bin-hadoop2.7.tgz\n",
        "!pip install -q findspark\n",
        "\n",
        "# Set Environment Variables\n",
        "import os\n",
        "os.environ[\"JAVA_HOME\"] = \"/usr/lib/jvm/java-11-openjdk-amd64\"\n",
        "os.environ[\"SPARK_HOME\"] = f\"/content/{spark_version}-bin-hadoop2.7\"\n",
        "\n",
        "# Start a SparkSession\n",
        "import findspark\n",
        "findspark.init()"
      ]
    },
    {
      "cell_type": "code",
      "source": [
        "# Download the Postgres driver that will allow Spark to interact with Postgres.\n",
        "!wget https://jdbc.postgresql.org/download/postgresql-42.2.16.jar"
      ],
      "metadata": {
        "colab": {
          "base_uri": "https://localhost:8080/"
        },
        "id": "ZCfpa5ZppJDQ",
        "outputId": "bc6008a2-e2ef-4ae4-f90d-5cabd8b3003b"
      },
      "execution_count": 3,
      "outputs": [
        {
          "output_type": "stream",
          "name": "stdout",
          "text": [
            "--2022-07-11 19:04:30--  https://jdbc.postgresql.org/download/postgresql-42.2.16.jar\n",
            "Resolving jdbc.postgresql.org (jdbc.postgresql.org)... 72.32.157.228, 2001:4800:3e1:1::228\n",
            "Connecting to jdbc.postgresql.org (jdbc.postgresql.org)|72.32.157.228|:443... connected.\n",
            "HTTP request sent, awaiting response... 200 OK\n",
            "Length: 1002883 (979K) [application/java-archive]\n",
            "Saving to: ‘postgresql-42.2.16.jar’\n",
            "\n",
            "postgresql-42.2.16. 100%[===================>] 979.38K  --.-KB/s    in 0.1s    \n",
            "\n",
            "2022-07-11 19:04:30 (6.49 MB/s) - ‘postgresql-42.2.16.jar’ saved [1002883/1002883]\n",
            "\n"
          ]
        }
      ]
    },
    {
      "cell_type": "code",
      "source": [
        "from pyspark.sql import SparkSession\n",
        "spark = SparkSession.builder.appName(\"M16-Amazon-Challenge\").config(\"spark.driver.extraClassPath\",\"/content/postgresql-42.2.16.jar\").getOrCreate()"
      ],
      "metadata": {
        "id": "1-taYgFhpT25"
      },
      "execution_count": 4,
      "outputs": []
    },
    {
      "cell_type": "code",
      "source": [
        "from pyspark import SparkFiles\n",
        "\n",
        "# Read in the Review dataset as a DataFrame\n",
        "url = \"https://s3.amazonaws.com/amazon-reviews-pds/tsv/amazon_reviews_us_Baby_v1_00.tsv.gz\"\n",
        "spark.sparkContext.addFile(url)\n",
        "df = spark.read.option(\"encoding\", \"UTF-8\").csv(SparkFiles.get(\"\"), sep=\"\\t\", header=True, inferSchema=True)"
      ],
      "metadata": {
        "id": "1mkQhlTGpicH"
      },
      "execution_count": 5,
      "outputs": []
    },
    {
      "cell_type": "code",
      "source": [
        "# Create the vine_table. DataFrame\n",
        "vine_df = df.select([\"review_id\", \"star_rating\", \"helpful_votes\", \"total_votes\", \"vine\", \"verified_purchase\"])\n",
        "vine_df.show()"
      ],
      "metadata": {
        "colab": {
          "base_uri": "https://localhost:8080/"
        },
        "id": "sr7E33-tptlw",
        "outputId": "170816c7-d9bf-40a0-c493-8a07d0235ce4"
      },
      "execution_count": 7,
      "outputs": [
        {
          "output_type": "stream",
          "name": "stdout",
          "text": [
            "+--------------+-----------+-------------+-----------+----+-----------------+\n",
            "|     review_id|star_rating|helpful_votes|total_votes|vine|verified_purchase|\n",
            "+--------------+-----------+-------------+-----------+----+-----------------+\n",
            "| R8EWA1OFT84NX|          5|            0|          0|   N|                Y|\n",
            "|R2JWY4YRQD4FOP|          5|            0|          0|   N|                N|\n",
            "| RL5ESX231LZ0B|          5|            0|          0|   N|                Y|\n",
            "| RRMS9ZWJ2KD08|          5|            0|          0|   N|                Y|\n",
            "|R14I3ZG5E6S7YM|          5|            0|          0|   N|                Y|\n",
            "|R13EPSFP5DODN5|          4|            0|          0|   N|                Y|\n",
            "| R6RBP4HTE67SY|          5|            0|          0|   N|                Y|\n",
            "|R15B3EU40RSU2W|          5|            0|          0|   N|                Y|\n",
            "| RP4DD53A4ZJA2|          5|            0|          0|   N|                Y|\n",
            "|R2C99DJEO4RZ4K|          5|            3|          4|   N|                Y|\n",
            "| REV51EW323H8W|          5|            0|          0|   N|                Y|\n",
            "|R2GQ3W03WIUZKE|          5|            0|          0|   N|                Y|\n",
            "| RTI1YI7K6GE3D|          5|            0|          0|   N|                Y|\n",
            "|R3V9C2C0SPSZU6|          5|            0|          0|   N|                Y|\n",
            "|R1LB42XCSSCLV6|          5|            0|          0|   N|                Y|\n",
            "|R113NWCW6STTMC|          5|            0|          0|   N|                Y|\n",
            "| RWRN5XK337N41|          1|            0|          0|   N|                N|\n",
            "| RF4WL3QEP3PVI|          1|            0|          0|   N|                Y|\n",
            "|R2DRL5NRODVQ3Z|          5|            2|          2|   N|                Y|\n",
            "|R3T9B92MDDHKMM|          2|            5|          5|   N|                Y|\n",
            "+--------------+-----------+-------------+-----------+----+-----------------+\n",
            "only showing top 20 rows\n",
            "\n"
          ]
        }
      ]
    },
    {
      "cell_type": "code",
      "source": [
        "# retrieve all the rows where the total_votes >= 20\n",
        "vine_df = vine_df.filter(vine_df[\"total_votes\"] >= 20)\n",
        "vine_df.show()"
      ],
      "metadata": {
        "colab": {
          "base_uri": "https://localhost:8080/"
        },
        "id": "00Tne_a7p8ch",
        "outputId": "45609c82-398a-4bd9-d058-daebfa096154"
      },
      "execution_count": 55,
      "outputs": [
        {
          "output_type": "stream",
          "name": "stdout",
          "text": [
            "+--------------+-----------+-------------+-----------+----+-----------------+\n",
            "|     review_id|star_rating|helpful_votes|total_votes|vine|verified_purchase|\n",
            "+--------------+-----------+-------------+-----------+----+-----------------+\n",
            "| ROI00QN8IS49I|          5|           83|         91|   N|                N|\n",
            "|R13C5INE1RTZP6|          2|           26|         26|   N|                Y|\n",
            "| RXVMMXCL67MZN|          4|          378|        383|   N|                Y|\n",
            "|R33JJQWAUYBKD3|          5|          270|        280|   N|                Y|\n",
            "|R3N0XV9267NOXV|          5|           41|         47|   Y|                N|\n",
            "|R31HQD6YXSQV1W|          3|           40|         48|   N|                Y|\n",
            "|R33LQSF958O6K8|          5|           39|         41|   N|                Y|\n",
            "|R3OIDSQJ84W7J1|          5|           21|         24|   N|                N|\n",
            "|R3UUR313K5VVTL|          1|            1|         24|   N|                Y|\n",
            "| RODE8K12S7148|          5|           41|         45|   N|                Y|\n",
            "|R2QZFYFUKP22SP|          5|           33|         37|   N|                Y|\n",
            "| RFON10GAZKDL3|          3|           16|         20|   N|                Y|\n",
            "|R2UXKAUFMPE0PJ|          1|           29|         29|   N|                N|\n",
            "|R20YYYGIRVB7F1|          1|           32|         41|   N|                N|\n",
            "|R36065K853ACRA|          3|           28|         34|   N|                Y|\n",
            "| RBS6RYHXL83L8|          5|           49|         57|   N|                Y|\n",
            "|R2D5JAVXATJOQB|          4|           45|         48|   N|                Y|\n",
            "|R1SUS9Y51N3QO8|          1|           42|         46|   N|                N|\n",
            "|R3DKDS7674IU4Z|          5|           29|         31|   N|                N|\n",
            "|R3VER1GSR74AHB|          4|           38|         39|   N|                Y|\n",
            "+--------------+-----------+-------------+-----------+----+-----------------+\n",
            "only showing top 20 rows\n",
            "\n"
          ]
        }
      ]
    },
    {
      "cell_type": "code",
      "source": [
        "from pyspark.sql.functions import format_number, count\n",
        "\n",
        "# calculate the helpful_votes to total ratio\n",
        "helpful_total_df = vine_df.withColumn(\"helpful_to_total_votes\", format_number(vine_df[\"helpful_votes\"] / vine_df[\"total_votes\"], 2))\n",
        "helpful_total_df.show()"
      ],
      "metadata": {
        "colab": {
          "base_uri": "https://localhost:8080/"
        },
        "id": "FbiAEbcsuedT",
        "outputId": "d0b60c37-dfca-439d-fb21-e6e5d1c17c61"
      },
      "execution_count": 56,
      "outputs": [
        {
          "output_type": "stream",
          "name": "stdout",
          "text": [
            "+--------------+-----------+-------------+-----------+----+-----------------+----------------------+\n",
            "|     review_id|star_rating|helpful_votes|total_votes|vine|verified_purchase|helpful_to_total_votes|\n",
            "+--------------+-----------+-------------+-----------+----+-----------------+----------------------+\n",
            "| ROI00QN8IS49I|          5|           83|         91|   N|                N|                  0.91|\n",
            "|R13C5INE1RTZP6|          2|           26|         26|   N|                Y|                  1.00|\n",
            "| RXVMMXCL67MZN|          4|          378|        383|   N|                Y|                  0.99|\n",
            "|R33JJQWAUYBKD3|          5|          270|        280|   N|                Y|                  0.96|\n",
            "|R3N0XV9267NOXV|          5|           41|         47|   Y|                N|                  0.87|\n",
            "|R31HQD6YXSQV1W|          3|           40|         48|   N|                Y|                  0.83|\n",
            "|R33LQSF958O6K8|          5|           39|         41|   N|                Y|                  0.95|\n",
            "|R3OIDSQJ84W7J1|          5|           21|         24|   N|                N|                  0.88|\n",
            "|R3UUR313K5VVTL|          1|            1|         24|   N|                Y|                  0.04|\n",
            "| RODE8K12S7148|          5|           41|         45|   N|                Y|                  0.91|\n",
            "|R2QZFYFUKP22SP|          5|           33|         37|   N|                Y|                  0.89|\n",
            "| RFON10GAZKDL3|          3|           16|         20|   N|                Y|                  0.80|\n",
            "|R2UXKAUFMPE0PJ|          1|           29|         29|   N|                N|                  1.00|\n",
            "|R20YYYGIRVB7F1|          1|           32|         41|   N|                N|                  0.78|\n",
            "|R36065K853ACRA|          3|           28|         34|   N|                Y|                  0.82|\n",
            "| RBS6RYHXL83L8|          5|           49|         57|   N|                Y|                  0.86|\n",
            "|R2D5JAVXATJOQB|          4|           45|         48|   N|                Y|                  0.94|\n",
            "|R1SUS9Y51N3QO8|          1|           42|         46|   N|                N|                  0.91|\n",
            "|R3DKDS7674IU4Z|          5|           29|         31|   N|                N|                  0.94|\n",
            "|R3VER1GSR74AHB|          4|           38|         39|   N|                Y|                  0.97|\n",
            "+--------------+-----------+-------------+-----------+----+-----------------+----------------------+\n",
            "only showing top 20 rows\n",
            "\n"
          ]
        }
      ]
    },
    {
      "cell_type": "code",
      "source": [
        "# retrieve rows where the number of helpful_votes / total_votes >= 50%\n",
        "\n",
        "helpful_total_df = helpful_total_df.filter(helpful_total_df[\"helpful_to_total_votes\"] >= 0.50)\n",
        "helpful_total_df.show()"
      ],
      "metadata": {
        "colab": {
          "base_uri": "https://localhost:8080/"
        },
        "id": "isZp0Hdkt4ov",
        "outputId": "b2776da3-2041-413c-b66e-a6c636ebea14"
      },
      "execution_count": 57,
      "outputs": [
        {
          "output_type": "stream",
          "name": "stdout",
          "text": [
            "+--------------+-----------+-------------+-----------+----+-----------------+----------------------+\n",
            "|     review_id|star_rating|helpful_votes|total_votes|vine|verified_purchase|helpful_to_total_votes|\n",
            "+--------------+-----------+-------------+-----------+----+-----------------+----------------------+\n",
            "| ROI00QN8IS49I|          5|           83|         91|   N|                N|                  0.91|\n",
            "|R13C5INE1RTZP6|          2|           26|         26|   N|                Y|                  1.00|\n",
            "| RXVMMXCL67MZN|          4|          378|        383|   N|                Y|                  0.99|\n",
            "|R33JJQWAUYBKD3|          5|          270|        280|   N|                Y|                  0.96|\n",
            "|R3N0XV9267NOXV|          5|           41|         47|   Y|                N|                  0.87|\n",
            "|R31HQD6YXSQV1W|          3|           40|         48|   N|                Y|                  0.83|\n",
            "|R33LQSF958O6K8|          5|           39|         41|   N|                Y|                  0.95|\n",
            "|R3OIDSQJ84W7J1|          5|           21|         24|   N|                N|                  0.88|\n",
            "| RODE8K12S7148|          5|           41|         45|   N|                Y|                  0.91|\n",
            "|R2QZFYFUKP22SP|          5|           33|         37|   N|                Y|                  0.89|\n",
            "| RFON10GAZKDL3|          3|           16|         20|   N|                Y|                  0.80|\n",
            "|R2UXKAUFMPE0PJ|          1|           29|         29|   N|                N|                  1.00|\n",
            "|R20YYYGIRVB7F1|          1|           32|         41|   N|                N|                  0.78|\n",
            "|R36065K853ACRA|          3|           28|         34|   N|                Y|                  0.82|\n",
            "| RBS6RYHXL83L8|          5|           49|         57|   N|                Y|                  0.86|\n",
            "|R2D5JAVXATJOQB|          4|           45|         48|   N|                Y|                  0.94|\n",
            "|R1SUS9Y51N3QO8|          1|           42|         46|   N|                N|                  0.91|\n",
            "|R3DKDS7674IU4Z|          5|           29|         31|   N|                N|                  0.94|\n",
            "|R3VER1GSR74AHB|          4|           38|         39|   N|                Y|                  0.97|\n",
            "| R4KKILPJRQ2J5|          1|           12|         20|   N|                Y|                  0.60|\n",
            "+--------------+-----------+-------------+-----------+----+-----------------+----------------------+\n",
            "only showing top 20 rows\n",
            "\n"
          ]
        }
      ]
    },
    {
      "cell_type": "code",
      "source": [
        "# retrieves all rows where a review was written as part of the Vine program\n",
        "vine_paid_df = helpful_total_df.filter(helpful_total_df[\"vine\"] == \"Y\")\n",
        "vine_paid_df.show()"
      ],
      "metadata": {
        "colab": {
          "base_uri": "https://localhost:8080/"
        },
        "id": "_NPrZBcEz0_X",
        "outputId": "06b3af3a-e4dd-4487-b35e-9323441d3733"
      },
      "execution_count": 58,
      "outputs": [
        {
          "output_type": "stream",
          "name": "stdout",
          "text": [
            "+--------------+-----------+-------------+-----------+----+-----------------+----------------------+\n",
            "|     review_id|star_rating|helpful_votes|total_votes|vine|verified_purchase|helpful_to_total_votes|\n",
            "+--------------+-----------+-------------+-----------+----+-----------------+----------------------+\n",
            "|R3N0XV9267NOXV|          5|           41|         47|   Y|                N|                  0.87|\n",
            "| RSA6JQ346JZHZ|          5|           55|         64|   Y|                Y|                  0.86|\n",
            "|R1FXF4HRMCLG4C|          5|           69|         84|   Y|                N|                  0.82|\n",
            "| RCTBWC3II42MG|          4|          113|        117|   Y|                N|                  0.97|\n",
            "| RTMQM2CQ1XIZ0|          5|           21|         25|   Y|                N|                  0.84|\n",
            "|R2CBJLCKQ612KU|          4|           27|         35|   Y|                N|                  0.77|\n",
            "|R322QDGO4AV2B5|          5|           55|         65|   Y|                N|                  0.85|\n",
            "| R2S7CXRDGQ6EE|          4|           36|         39|   Y|                N|                  0.92|\n",
            "|R3ECMXK0SGR1VV|          5|           59|         64|   Y|                N|                  0.92|\n",
            "|R3D55CPJ6J6Z78|          4|           15|         20|   Y|                N|                  0.75|\n",
            "|R1Y9OYIUCP3WD2|          4|           20|         20|   Y|                N|                  1.00|\n",
            "| RT8AV0IB2PGHH|          4|          108|        132|   Y|                N|                  0.82|\n",
            "|R2RLHJRJD9B0NX|          3|           44|         47|   Y|                N|                  0.94|\n",
            "| RAPD7IX0LPZ10|          4|           36|         37|   Y|                N|                  0.97|\n",
            "|R37QPCBNR07PPR|          1|           22|         27|   Y|                N|                  0.81|\n",
            "|R3BRFPK8N59XPY|          5|          364|        395|   Y|                N|                  0.92|\n",
            "|R1WE59I775L7L9|          4|           31|         33|   Y|                N|                  0.94|\n",
            "| RO8IGQJV1PKCJ|          5|           78|         84|   Y|                N|                  0.93|\n",
            "| RWZDJT9MQP6A4|          5|           86|         97|   Y|                N|                  0.89|\n",
            "|R2VDXEVKFSJU36|          5|           20|         22|   Y|                N|                  0.91|\n",
            "+--------------+-----------+-------------+-----------+----+-----------------+----------------------+\n",
            "only showing top 20 rows\n",
            "\n"
          ]
        }
      ]
    },
    {
      "cell_type": "code",
      "source": [
        "# retrieves all rows where a review was written NOT as part of the Vine program\n",
        "vine_unpaid_df = helpful_total_df.filter(helpful_total_df[\"vine\"] == \"N\")\n",
        "vine_unpaid_df.show()"
      ],
      "metadata": {
        "colab": {
          "base_uri": "https://localhost:8080/"
        },
        "id": "7C0qbpw50aQ5",
        "outputId": "e36d07f7-2a63-4a1b-8ad4-572bceea2a45"
      },
      "execution_count": 59,
      "outputs": [
        {
          "output_type": "stream",
          "name": "stdout",
          "text": [
            "+--------------+-----------+-------------+-----------+----+-----------------+----------------------+\n",
            "|     review_id|star_rating|helpful_votes|total_votes|vine|verified_purchase|helpful_to_total_votes|\n",
            "+--------------+-----------+-------------+-----------+----+-----------------+----------------------+\n",
            "| ROI00QN8IS49I|          5|           83|         91|   N|                N|                  0.91|\n",
            "|R13C5INE1RTZP6|          2|           26|         26|   N|                Y|                  1.00|\n",
            "| RXVMMXCL67MZN|          4|          378|        383|   N|                Y|                  0.99|\n",
            "|R33JJQWAUYBKD3|          5|          270|        280|   N|                Y|                  0.96|\n",
            "|R31HQD6YXSQV1W|          3|           40|         48|   N|                Y|                  0.83|\n",
            "|R33LQSF958O6K8|          5|           39|         41|   N|                Y|                  0.95|\n",
            "|R3OIDSQJ84W7J1|          5|           21|         24|   N|                N|                  0.88|\n",
            "| RODE8K12S7148|          5|           41|         45|   N|                Y|                  0.91|\n",
            "|R2QZFYFUKP22SP|          5|           33|         37|   N|                Y|                  0.89|\n",
            "| RFON10GAZKDL3|          3|           16|         20|   N|                Y|                  0.80|\n",
            "|R2UXKAUFMPE0PJ|          1|           29|         29|   N|                N|                  1.00|\n",
            "|R20YYYGIRVB7F1|          1|           32|         41|   N|                N|                  0.78|\n",
            "|R36065K853ACRA|          3|           28|         34|   N|                Y|                  0.82|\n",
            "| RBS6RYHXL83L8|          5|           49|         57|   N|                Y|                  0.86|\n",
            "|R2D5JAVXATJOQB|          4|           45|         48|   N|                Y|                  0.94|\n",
            "|R1SUS9Y51N3QO8|          1|           42|         46|   N|                N|                  0.91|\n",
            "|R3DKDS7674IU4Z|          5|           29|         31|   N|                N|                  0.94|\n",
            "|R3VER1GSR74AHB|          4|           38|         39|   N|                Y|                  0.97|\n",
            "| R4KKILPJRQ2J5|          1|           12|         20|   N|                Y|                  0.60|\n",
            "| RE1XO71W5US5S|          1|           28|         30|   N|                Y|                  0.93|\n",
            "+--------------+-----------+-------------+-----------+----+-----------------+----------------------+\n",
            "only showing top 20 rows\n",
            "\n"
          ]
        }
      ]
    },
    {
      "cell_type": "code",
      "source": [
        "# Note: the following results are based on the data filtered for rows\n",
        "# at least 20 total reviews  \n",
        "\n",
        "#total number of reviews\n",
        "total_reviews = vine_df.count()\n",
        "\n",
        "# total 5-star reviews\n",
        "five_star_reviews = vine_df.filter(vine_df[\"star_rating\"] == 5).count()\n",
        "\n",
        "# paid 5-star reviews\n",
        "paid_five_star_reviews = vine_paid_df.filter(vine_paid_df[\"star_rating\"] == 5).count()\n",
        "\n",
        "# percentage of paid 5-star reviews\n",
        "percetage_paid_five_star_reviews = paid_five_star_reviews / five_star_reviews\n",
        "\n",
        "# paid 5-star reviews\n",
        "unpaid_five_star_reviews = vine_unpaid_df.filter(vine_unpaid_df[\"star_rating\"] == 5).count()\n",
        "\n",
        "# percentage of paid 5-star reviews\n",
        "percetage_unpaid_five_star_reviews = unpaid_five_star_reviews / five_star_reviews\n",
        "\n",
        "print(total_reviews, five_star_reviews, paid_five_star_reviews, percetage_paid_five_star_reviews, unpaid_five_star_reviews, percetage_unpaid_five_star_reviews)"
      ],
      "metadata": {
        "colab": {
          "base_uri": "https://localhost:8080/"
        },
        "id": "Fhjkvbie0owh",
        "outputId": "c94a6de4-2918-4df5-8ded-82ac2098a2d3"
      },
      "execution_count": 64,
      "outputs": [
        {
          "output_type": "stream",
          "name": "stdout",
          "text": [
            "27389 12371 202 0.016328510225527445 12033 0.9726780373454046\n"
          ]
        }
      ]
    }
  ]
}